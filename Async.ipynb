{
 "cells": [
  {
   "cell_type": "markdown",
   "id": "middle-flood",
   "metadata": {},
   "source": [
    "## Async\n",
    "\n",
    "Async Talk: https://www.youtube.com/watch?v=E-1Y4kSsAFc\n"
   ]
  },
  {
   "cell_type": "code",
   "execution_count": 1,
   "id": "lasting-excuse",
   "metadata": {},
   "outputs": [],
   "source": [
    "async def greeting(name):\n",
    "    return 'Hello ' + name"
   ]
  },
  {
   "cell_type": "code",
   "execution_count": 2,
   "id": "alive-velvet",
   "metadata": {},
   "outputs": [
    {
     "data": {
      "text/plain": [
       "<coroutine object greeting at 0x7fa9401f1a40>"
      ]
     },
     "execution_count": 2,
     "metadata": {},
     "output_type": "execute_result"
    }
   ],
   "source": [
    "g = greeting('Hamel')\n",
    "g"
   ]
  },
  {
   "cell_type": "markdown",
   "id": "inside-enforcement",
   "metadata": {},
   "source": [
    "You have to have something drive the coroutine:"
   ]
  },
  {
   "cell_type": "code",
   "execution_count": 3,
   "id": "spoken-carbon",
   "metadata": {},
   "outputs": [
    {
     "ename": "StopIteration",
     "evalue": "Hello Hamel",
     "output_type": "error",
     "traceback": [
      "\u001b[0;31m----------------------------------------------------------\u001b[0m",
      "\u001b[0;31mStopIteration\u001b[0m            Traceback (most recent call last)",
      "\u001b[0;32m<ipython-input-3-70a3cd01dee6>\u001b[0m in \u001b[0;36m<module>\u001b[0;34m\u001b[0m\n\u001b[0;32m----> 1\u001b[0;31m \u001b[0mg\u001b[0m\u001b[0;34m.\u001b[0m\u001b[0msend\u001b[0m\u001b[0;34m(\u001b[0m\u001b[0;32mNone\u001b[0m\u001b[0;34m)\u001b[0m\u001b[0;34m\u001b[0m\u001b[0;34m\u001b[0m\u001b[0m\n\u001b[0m",
      "\u001b[0;31mStopIteration\u001b[0m: Hello Hamel"
     ]
    }
   ],
   "source": [
    "g.send(None)"
   ]
  },
  {
   "cell_type": "markdown",
   "id": "sitting-string",
   "metadata": {},
   "source": [
    "## How to run a coroutine:"
   ]
  },
  {
   "cell_type": "code",
   "execution_count": 4,
   "id": "awful-climb",
   "metadata": {},
   "outputs": [],
   "source": [
    "def run(coro):\n",
    "    try:\n",
    "        coro.send(None)\n",
    "    except StopIteration as e:\n",
    "        return e.value"
   ]
  },
  {
   "cell_type": "markdown",
   "id": "prospective-salem",
   "metadata": {},
   "source": [
    "This is kind of weird, and yes you need something like this to run a coroutine!"
   ]
  },
  {
   "cell_type": "code",
   "execution_count": 6,
   "id": "violent-ordering",
   "metadata": {},
   "outputs": [
    {
     "data": {
      "text/plain": [
       "'Bye Hamel'"
      ]
     },
     "execution_count": 6,
     "metadata": {},
     "output_type": "execute_result"
    }
   ],
   "source": [
    "async def bye(name): return 'Bye ' + name\n",
    "run(bye('Hamel'))"
   ]
  },
  {
   "cell_type": "markdown",
   "id": "institutional-holly",
   "metadata": {},
   "source": [
    "The typical way to call a coroutine from another coroutine:\n",
    "\n",
    "When you use the keyword `await` it calls the coroutine as if though it was a regular function."
   ]
  },
  {
   "cell_type": "code",
   "execution_count": 7,
   "id": "second-portland",
   "metadata": {},
   "outputs": [
    {
     "name": "stdout",
     "output_type": "stream",
     "text": [
      "Hello Hamel\n"
     ]
    }
   ],
   "source": [
    "async def main(): \n",
    "    print(await greeting('Hamel'))\n",
    "run(main())"
   ]
  },
  {
   "cell_type": "markdown",
   "id": "colored-karen",
   "metadata": {},
   "source": [
    "## Where can you use await?"
   ]
  },
  {
   "cell_type": "markdown",
   "id": "million-knowing",
   "metadata": {},
   "source": [
    "Something wrong with the talk, he said you cannot use `await` directly in the interactive REPL, but you can!  This is interesting and confusing!"
   ]
  },
  {
   "cell_type": "code",
   "execution_count": 8,
   "id": "biological-pearl",
   "metadata": {},
   "outputs": [
    {
     "data": {
      "text/plain": [
       "'Bye Hello'"
      ]
     },
     "execution_count": 8,
     "metadata": {},
     "output_type": "execute_result"
    }
   ],
   "source": [
    "await bye('Hello')"
   ]
  },
  {
   "cell_type": "code",
   "execution_count": 9,
   "id": "appropriate-worry",
   "metadata": {},
   "outputs": [
    {
     "data": {
      "text/plain": [
       "'Bye foo'"
      ]
     },
     "execution_count": 9,
     "metadata": {},
     "output_type": "execute_result"
    }
   ],
   "source": [
    "await bye('foo')"
   ]
  },
  {
   "cell_type": "markdown",
   "id": "unlimited-drain",
   "metadata": {},
   "source": [
    "You cannot use await in a non async function:"
   ]
  },
  {
   "cell_type": "code",
   "execution_count": 10,
   "id": "circular-finish",
   "metadata": {},
   "outputs": [
    {
     "ename": "SyntaxError",
     "evalue": "'await' outside async function (<ipython-input-10-d4e8dd2cf05d>, line 1)",
     "output_type": "error",
     "traceback": [
      "\u001b[0;36m  File \u001b[0;32m\"<ipython-input-10-d4e8dd2cf05d>\"\u001b[0;36m, line \u001b[0;32m1\u001b[0m\n\u001b[0;31m    def regular(): return await bye('Hamel')\u001b[0m\n\u001b[0m                          ^\u001b[0m\n\u001b[0;31mSyntaxError\u001b[0m\u001b[0;31m:\u001b[0m 'await' outside async function\n"
     ]
    }
   ],
   "source": [
    "def regular(): return await bye('Hamel')\n",
    "regular()\n",
    "    "
   ]
  },
  {
   "cell_type": "markdown",
   "id": "photographic-omega",
   "metadata": {},
   "source": [
    "The talk says you cannot use aysnc operations in list comprehensions, but you can!"
   ]
  },
  {
   "cell_type": "code",
   "execution_count": 11,
   "id": "innovative-carbon",
   "metadata": {},
   "outputs": [
    {
     "data": {
      "text/plain": [
       "['Bye 0', 'Bye 1', 'Bye 2', 'Bye 3', 'Bye 4']"
      ]
     },
     "execution_count": 11,
     "metadata": {},
     "output_type": "execute_result"
    }
   ],
   "source": [
    "[await bye(str(x)) for x in range(5) ]"
   ]
  },
  {
   "cell_type": "markdown",
   "id": "sacred-football",
   "metadata": {},
   "source": [
    "You cannot have async dunder methods.  I don't even want to think about what this means.  If you try to do this you get the following error:\n",
    "\n",
    "_The only exception is is `__getitem__` and `__getattr__`_ methods, but we can skip over that as that is an obscure fact of python. "
   ]
  },
  {
   "cell_type": "code",
   "execution_count": 12,
   "id": "passing-serbia",
   "metadata": {},
   "outputs": [
    {
     "name": "stderr",
     "output_type": "stream",
     "text": [
      "<ipython-input-12-8b9d76034662>:4: RuntimeWarning: coroutine 'Spam.__init__' was never awaited\n",
      "  s = Spam()\n",
      "RuntimeWarning: Enable tracemalloc to get the object allocation traceback\n"
     ]
    },
    {
     "ename": "TypeError",
     "evalue": "__init__() should return None, not 'coroutine'",
     "output_type": "error",
     "traceback": [
      "\u001b[0;31m----------------------------------------------------------\u001b[0m",
      "\u001b[0;31mTypeError\u001b[0m                Traceback (most recent call last)",
      "\u001b[0;32m<ipython-input-12-8b9d76034662>\u001b[0m in \u001b[0;36m<module>\u001b[0;34m\u001b[0m\n\u001b[1;32m      2\u001b[0m     \u001b[0;32masync\u001b[0m \u001b[0;32mdef\u001b[0m \u001b[0m__init__\u001b[0m\u001b[0;34m(\u001b[0m\u001b[0mself\u001b[0m\u001b[0;34m)\u001b[0m\u001b[0;34m:\u001b[0m \u001b[0mself\u001b[0m\u001b[0;34m.\u001b[0m\u001b[0mattr\u001b[0m \u001b[0;34m=\u001b[0m \u001b[0;32mawait\u001b[0m \u001b[0mbye\u001b[0m\u001b[0;34m(\u001b[0m\u001b[0;34m'foo'\u001b[0m\u001b[0;34m)\u001b[0m\u001b[0;34m\u001b[0m\u001b[0;34m\u001b[0m\u001b[0m\n\u001b[1;32m      3\u001b[0m \u001b[0;34m\u001b[0m\u001b[0m\n\u001b[0;32m----> 4\u001b[0;31m \u001b[0ms\u001b[0m \u001b[0;34m=\u001b[0m \u001b[0mSpam\u001b[0m\u001b[0;34m(\u001b[0m\u001b[0;34m)\u001b[0m\u001b[0;34m\u001b[0m\u001b[0;34m\u001b[0m\u001b[0m\n\u001b[0m",
      "\u001b[0;31mTypeError\u001b[0m: __init__() should return None, not 'coroutine'"
     ]
    }
   ],
   "source": [
    "class Spam:\n",
    "    async def __init__(self): self.attr = await bye('foo')\n",
    "        \n",
    "s = Spam()"
   ]
  },
  {
   "cell_type": "markdown",
   "id": "protective-dutch",
   "metadata": {},
   "source": [
    "**However** you can"
   ]
  }
 ],
 "metadata": {
  "kernelspec": {
   "display_name": "Python 3",
   "language": "python",
   "name": "python3"
  },
  "language_info": {
   "codemirror_mode": {
    "name": "ipython",
    "version": 3
   },
   "file_extension": ".py",
   "mimetype": "text/x-python",
   "name": "python",
   "nbconvert_exporter": "python",
   "pygments_lexer": "ipython3",
   "version": "3.8.3"
  }
 },
 "nbformat": 4,
 "nbformat_minor": 5
}

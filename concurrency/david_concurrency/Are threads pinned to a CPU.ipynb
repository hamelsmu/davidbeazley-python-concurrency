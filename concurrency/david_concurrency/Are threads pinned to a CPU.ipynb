{
 "cells": [
  {
   "cell_type": "code",
   "execution_count": 13,
   "id": "rotary-amateur",
   "metadata": {},
   "outputs": [],
   "source": [
    "from threading import Thread"
   ]
  },
  {
   "cell_type": "code",
   "execution_count": 14,
   "id": "satisfied-helicopter",
   "metadata": {},
   "outputs": [],
   "source": [
    "def foo(): [(100*1234324000**100) for i in range(100**5)]"
   ]
  },
  {
   "cell_type": "code",
   "execution_count": null,
   "id": "breathing-demand",
   "metadata": {},
   "outputs": [],
   "source": [
    "foo()"
   ]
  },
  {
   "cell_type": "code",
   "execution_count": null,
   "id": "large-framework",
   "metadata": {},
   "outputs": [],
   "source": [
    "# Thread(target=fib_handler, args=(client,)).start()"
   ]
  }
 ],
 "metadata": {
  "kernelspec": {
   "display_name": "Python 3",
   "language": "python",
   "name": "python3"
  },
  "language_info": {
   "codemirror_mode": {
    "name": "ipython",
    "version": 3
   },
   "file_extension": ".py",
   "mimetype": "text/x-python",
   "name": "python",
   "nbconvert_exporter": "python",
   "pygments_lexer": "ipython3",
   "version": "3.8.3"
  }
 },
 "nbformat": 4,
 "nbformat_minor": 5
}
